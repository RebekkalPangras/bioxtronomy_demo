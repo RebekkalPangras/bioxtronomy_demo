{
  "nbformat": 4,
  "nbformat_minor": 0,
  "metadata": {
    "colab": {
      "name": "bioxtronomy.ipynb",
      "provenance": []
    },
    "kernelspec": {
      "name": "python3",
      "display_name": "Python 3"
    },
    "accelerator": "GPU"
  },
  "cells": [
    {
      "cell_type": "code",
      "metadata": {
        "id": "WcgBz-8mgmo5",
        "outputId": "600043d3-e5ac-4deb-ad81-cd61c22f8b72",
        "colab": {
          "base_uri": "https://localhost:8080/",
          "height": 136
        }
      },
      "source": [
        "!git clone https://github.com/RebekkalPangras/bioxtronomy.git"
      ],
      "execution_count": 48,
      "outputs": [
        {
          "output_type": "stream",
          "text": [
            "Cloning into 'bioxtronomy'...\n",
            "remote: Enumerating objects: 106, done.\u001b[K\n",
            "remote: Counting objects: 100% (106/106), done.\u001b[K\n",
            "remote: Compressing objects: 100% (81/81), done.\u001b[K\n",
            "remote: Total 106 (delta 46), reused 82 (delta 22), pack-reused 0\u001b[K\n",
            "Receiving objects: 100% (106/106), 198.52 KiB | 2.96 MiB/s, done.\n",
            "Resolving deltas: 100% (46/46), done.\n"
          ],
          "name": "stdout"
        }
      ]
    },
    {
      "cell_type": "code",
      "metadata": {
        "id": "I_r8dlXLpCNL",
        "outputId": "ef847d4c-868e-427f-f22b-d507529d2b0c",
        "colab": {
          "base_uri": "https://localhost:8080/",
          "height": 411
        }
      },
      "source": [
        "!python /content/bioxtronomy/train_autoencoder.py --model /content/bioxtronomy/output/autoencoder.h5 --vis /content/bioxtronomy/output/recon_vis.png --plot /content/bioxtronomy/output/plot.png"
      ],
      "execution_count": 49,
      "outputs": [
        {
          "output_type": "stream",
          "text": [
            "2020-10-28 13:24:36.101107: I tensorflow/stream_executor/platform/default/dso_loader.cc:48] Successfully opened dynamic library libcudart.so.10.1\n",
            "[INFO] loading dataset...\n",
            "[INFO] building autoencoder...\n",
            "2020-10-28 13:24:38.420225: I tensorflow/stream_executor/platform/default/dso_loader.cc:48] Successfully opened dynamic library libcuda.so.1\n",
            "2020-10-28 13:24:38.429898: E tensorflow/stream_executor/cuda/cuda_driver.cc:314] failed call to cuInit: CUDA_ERROR_NO_DEVICE: no CUDA-capable device is detected\n",
            "2020-10-28 13:24:38.429954: I tensorflow/stream_executor/cuda/cuda_diagnostics.cc:156] kernel driver does not appear to be running on this host (0e9db6b4bad7): /proc/driver/nvidia/version does not exist\n",
            "2020-10-28 13:24:38.463320: I tensorflow/core/platform/profile_utils/cpu_utils.cc:104] CPU Frequency: 2300000000 Hz\n",
            "2020-10-28 13:24:38.463633: I tensorflow/compiler/xla/service/service.cc:168] XLA service 0x1d48a00 initialized for platform Host (this does not guarantee that XLA will be used). Devices:\n",
            "2020-10-28 13:24:38.463675: I tensorflow/compiler/xla/service/service.cc:176]   StreamExecutor device (0): Host, Default Version\n",
            "Started Training!\n",
            "Epoch 1/5\n",
            "5/5 [==============================] - 0s 52ms/step - loss: 0.1185 - val_loss: 0.1225\n",
            "Epoch 2/5\n",
            "5/5 [==============================] - 0s 13ms/step - loss: 0.0726 - val_loss: 0.1154\n",
            "Epoch 3/5\n",
            "5/5 [==============================] - 0s 12ms/step - loss: 0.0728 - val_loss: 0.1109\n",
            "Epoch 4/5\n",
            "5/5 [==============================] - 0s 12ms/step - loss: 0.0653 - val_loss: 0.1076\n",
            "Epoch 5/5\n",
            "5/5 [==============================] - 0s 13ms/step - loss: 0.0538 - val_loss: 0.1040\n",
            "[INFO] making predictions...\n",
            "[INFO] saving autoencoder...\n"
          ],
          "name": "stdout"
        }
      ]
    },
    {
      "cell_type": "code",
      "metadata": {
        "id": "lm5Bc3h5OG2p",
        "outputId": "ba3138dd-3127-4bd2-88f1-5e8279ae2188",
        "colab": {
          "base_uri": "https://localhost:8080/",
          "height": 224
        }
      },
      "source": [
        "!python /content/bioxtronomy/index_images.py --model /content/bioxtronomy/output/autoencoder.h5 --index /content/bioxtronomy/output/index.pickle"
      ],
      "execution_count": 51,
      "outputs": [
        {
          "output_type": "stream",
          "text": [
            "2020-10-28 13:37:02.336077: I tensorflow/stream_executor/platform/default/dso_loader.cc:48] Successfully opened dynamic library libcudart.so.10.1\n",
            "[INFO] loading MNIST training split...\n",
            "[INFO] loading autoencoder model...\n",
            "2020-10-28 13:37:04.455078: I tensorflow/stream_executor/platform/default/dso_loader.cc:48] Successfully opened dynamic library libcuda.so.1\n",
            "2020-10-28 13:37:04.464642: E tensorflow/stream_executor/cuda/cuda_driver.cc:314] failed call to cuInit: CUDA_ERROR_NO_DEVICE: no CUDA-capable device is detected\n",
            "2020-10-28 13:37:04.464712: I tensorflow/stream_executor/cuda/cuda_diagnostics.cc:156] kernel driver does not appear to be running on this host (0e9db6b4bad7): /proc/driver/nvidia/version does not exist\n",
            "2020-10-28 13:37:04.471741: I tensorflow/core/platform/profile_utils/cpu_utils.cc:104] CPU Frequency: 2300000000 Hz\n",
            "2020-10-28 13:37:04.472076: I tensorflow/compiler/xla/service/service.cc:168] XLA service 0x2340bc0 initialized for platform Host (this does not guarantee that XLA will be used). Devices:\n",
            "2020-10-28 13:37:04.472124: I tensorflow/compiler/xla/service/service.cc:176]   StreamExecutor device (0): Host, Default Version\n",
            "[INFO] encoding images...\n",
            "[INFO] saving index...\n"
          ],
          "name": "stdout"
        }
      ]
    },
    {
      "cell_type": "code",
      "metadata": {
        "id": "FmS0ESENP1qd",
        "outputId": "c91d98c2-b44d-470c-c8ef-66480f03505a",
        "colab": {
          "base_uri": "https://localhost:8080/",
          "height": 1000
        }
      },
      "source": [
        "from google.colab.patches import cv2_imshow\n",
        "from tensorflow.keras.models import Model\n",
        "from tensorflow.keras.models import load_model\n",
        "from tensorflow.keras.datasets import mnist\n",
        "import numpy as np\n",
        "import argparse\n",
        "import pickle\n",
        "import os\n",
        "import numpy as np\n",
        "from keras.preprocessing import image\n",
        "from keras.preprocessing.image import img_to_array\n",
        "from imutils import build_montages\n",
        "import cv2\n",
        "\n",
        "def euclidean(a, b):\n",
        "\t# compute and return the euclidean distance between two vectors\n",
        "\treturn np.linalg.norm(a - b)\n",
        "\n",
        "def perform_search(queryFeatures, index, maxResults=64):\n",
        "\t# initialize our list of results\n",
        "\tresults = []\n",
        "\n",
        "\t# loop over our index\n",
        "\tfor i in range(0, len(index[\"features\"])):\n",
        "\t\t# compute the euclidean distance between our query features\n",
        "\t\t# and the features for the current image in our index, then\n",
        "\t\t# update our results list with a 2-tuple consisting of the\n",
        "\t\t# computed distance and the index of the image\n",
        "\t\td = euclidean(queryFeatures, index[\"features\"][i])\n",
        "\t\tresults.append((d, i))\n",
        "\n",
        "\t# sort the results and grab the top ones\n",
        "\tresults = sorted(results)[:maxResults]\n",
        "\n",
        "\t# return the list of results\n",
        "\treturn results\n",
        "\n",
        "model = \"/content/bioxtronomy/output/autoencoder.h5\"\n",
        "index = \"/content/bioxtronomy/output/index.pickle\"\n",
        "sample = 2\n",
        "\n",
        "# load the dataset\n",
        "print(\"[INFO] loading dataset...\")\n",
        "\n",
        "# PATH = os.getcwd()\n",
        "\n",
        "train_path = '/content/bioxtronomy/data/train/bio/'\n",
        "train_batch = os.listdir(train_path)\n",
        "x_train = []\n",
        "\n",
        "# if data are in form of images\n",
        "for sample in train_batch:\n",
        "    img_path = train_path + sample\n",
        "    x = image.load_img(img_path, color_mode=\"grayscale\", target_size=(28,28))\n",
        "    img_array = img_to_array(x)\n",
        "    # preprocessing if required\n",
        "    x_train.append(img_array)\n",
        "\n",
        "test_path = '/content/bioxtronomy/data/test/astronomy/'\n",
        "test_batch = os.listdir(test_path)\n",
        "x_test = []\n",
        "\n",
        "for sample in test_batch:\n",
        "    img_path = test_path + sample\n",
        "    x = image.load_img(img_path, color_mode=\"grayscale\", target_size=(28,28))\n",
        "    img_array = img_to_array(x)\n",
        "    # preprocessing if required\n",
        "    x_test.append(img_array)\n",
        "\n",
        "# finally converting list into numpy array\n",
        "trainX = np.array(x_train)\n",
        "testX = np.array(x_test)\n",
        "\n",
        "trainX = trainX.astype(\"float32\") / 255.0\n",
        "testX = testX.astype(\"float32\") / 255.0\n",
        "\n",
        "# load the autoencoder model and index from disk\n",
        "print(\"[INFO] loading autoencoder and index...\")\n",
        "autoencoder = load_model(model)\n",
        "index = pickle.loads(open(index, \"rb\").read())\n",
        "\n",
        "# create the encoder model which consists of *just* the encoder\n",
        "# portion of the autoencoder\n",
        "encoder = Model(inputs=autoencoder.input, \n",
        "                outputs=autoencoder.get_layer(\"encoded\").output)\n",
        "\n",
        "# quantify the contents of our input testing images using the encoder\n",
        "print(\"[INFO] encoding testing images...\")\n",
        "features = encoder.predict(testX)\n",
        "\n",
        "queryIdxs = np.array([1,4,6,7])\n",
        "# loop over the testing indexes\n",
        "for i in queryIdxs:\n",
        "    # take the features for the current image, find all similar\n",
        "    # images in our dataset, and then initialize our list of result\n",
        "    # images\n",
        "    queryFeatures = features[i]\n",
        "    results = perform_search(queryFeatures, index, maxResults=225)\n",
        "    images = []\n",
        "\n",
        "    # loop over the results\n",
        "    # for (d, j) in results:\n",
        "    #     # grab the result image, convert it back to the range\n",
        "    #     # [0, 255], and then update the images list\n",
        "    #     image = (trainX[j] * 255).astype(\"uint8\")\n",
        "    #     image = np.dstack([image] * 3)\n",
        "    #     images.append(image)\n",
        "\n",
        "    # display the query image\n",
        "    query = (testX[i] * 255).astype(\"uint8\")\n",
        "    # img = cv2.imread(\"Query\", query)\n",
        "    cv2_imshow(query)\n",
        "    \n",
        "    # build a montage from the results and display it\n",
        "    montage = build_montages(images, (28, 28), (15, 15))[0]\n",
        "    # imgs = cv2.imread(\"Results\", montage)\n",
        "    cv2_imshow(montage)\n",
        "    cv2.waitKey(0)"
      ],
      "execution_count": 60,
      "outputs": [
        {
          "output_type": "stream",
          "text": [
            "[INFO] loading dataset...\n",
            "[INFO] loading autoencoder and index...\n",
            "[INFO] encoding testing images...\n",
            "WARNING:tensorflow:8 out of the last 8 calls to <function Model.make_predict_function.<locals>.predict_function at 0x7f654f5a22f0> triggered tf.function retracing. Tracing is expensive and the excessive number of tracings could be due to (1) creating @tf.function repeatedly in a loop, (2) passing tensors with different shapes, (3) passing Python objects instead of tensors. For (1), please define your @tf.function outside of the loop. For (2), @tf.function has experimental_relax_shapes=True option that relaxes argument shapes that can avoid unnecessary retracing. For (3), please refer to https://www.tensorflow.org/tutorials/customization/performance#python_or_tensor_args and https://www.tensorflow.org/api_docs/python/tf/function for  more details.\n"
          ],
          "name": "stdout"
        },
        {
          "output_type": "display_data",
          "data": {
            "image/png": "[encoded data removed]",
            "text/plain": [
              "<PIL.Image.Image image mode=RGB size=28x28 at 0x7F654F016240>"
            ]
          },
          "metadata": {
            "tags": []
          }
        },
        {
          "output_type": "display_data",
          "data": {
            "image/png": "[encoded data removed]",
            "text/plain": [
              "<PIL.Image.Image image mode=RGB size=420x420 at 0x7F654F0162E8>"
            ]
          },
          "metadata": {
            "tags": []
          }
        },
        {
          "output_type": "display_data",
          "data": {
            "image/png": "[encoded data removed]",
            "text/plain": [
              "<PIL.Image.Image image mode=RGB size=28x28 at 0x7F654F0165C0>"
            ]
          },
          "metadata": {
            "tags": []
          }
        },
        {
          "output_type": "display_data",
          "data": {
            "image/png": "[encoded data removed]",
            "text/plain": [
              "<PIL.Image.Image image mode=RGB size=420x420 at 0x7F654F0164E0>"
            ]
          },
          "metadata": {
            "tags": []
          }
        },
        {
          "output_type": "display_data",
          "data": {
            "image/png": "[encoded data removed]",
            "text/plain": [
              "<PIL.Image.Image image mode=RGB size=28x28 at 0x7F654F016470>"
            ]
          },
          "metadata": {
            "tags": []
          }
        },
        {
          "output_type": "display_data",
          "data": {
            "image/png": "[encoded data removed]",
            "text/plain": [
              "<PIL.Image.Image image mode=RGB size=420x420 at 0x7F654F016240>"
            ]
          },
          "metadata": {
            "tags": []
          }
        },
        {
          "output_type": "display_data",
          "data": {
            "image/png": "[encoded data removed]",
            "text/plain": [
              "<PIL.Image.Image image mode=RGB size=28x28 at 0x7F654F016240>"
            ]
          },
          "metadata": {
            "tags": []
          }
        },
        {
          "output_type": "display_data",
          "data": {
            "image/png": "[encoded data removed]",
            "text/plain": [
              "<PIL.Image.Image image mode=RGB size=420x420 at 0x7F654F0162E8>"
            ]
          },
          "metadata": {
            "tags": []
          }
        }
      ]
    },
    {
      "cell_type": "code",
      "metadata": {
        "id": "ZwxzChuHnX6R"
      },
      "source": [
        ""
      ],
      "execution_count": null,
      "outputs": []
    }
  ]
}